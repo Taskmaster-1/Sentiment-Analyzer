{
 "cells": [
  {
   "cell_type": "code",
   "execution_count": 66,
   "metadata": {},
   "outputs": [],
   "source": [
    "import numpy as np\n",
    "import tensorflow as tf\n",
    "from tensorflow.keras.preprocessing import sequence\n",
    "from tensorflow.keras.models import load_model\n",
    "import pickle"
   ]
  },
  {
   "cell_type": "code",
   "execution_count": 67,
   "metadata": {},
   "outputs": [],
   "source": [
    "# Load the tokenizer\n",
    "with open('tokenizer.pkl', 'rb') as f:\n",
    "    word_index = pickle.load(f)\n",
    "\n",
    "reverse_word_index = {value: key for key, value in word_index.items()}"
   ]
  },
  {
   "cell_type": "code",
   "execution_count": 68,
   "metadata": {},
   "outputs": [
    {
     "name": "stderr",
     "output_type": "stream",
     "text": [
      "WARNING:absl:Compiled the loaded model, but the compiled metrics have yet to be built. `model.compile_metrics` will be empty until you train or evaluate the model.\n"
     ]
    },
    {
     "data": {
      "text/html": [
       "<pre style=\"white-space:pre;overflow-x:auto;line-height:normal;font-family:Menlo,'DejaVu Sans Mono',consolas,'Courier New',monospace\"><span style=\"font-weight: bold\">Model: \"sequential_3\"</span>\n",
       "</pre>\n"
      ],
      "text/plain": [
       "\u001b[1mModel: \"sequential_3\"\u001b[0m\n"
      ]
     },
     "metadata": {},
     "output_type": "display_data"
    },
    {
     "data": {
      "text/html": [
       "<pre style=\"white-space:pre;overflow-x:auto;line-height:normal;font-family:Menlo,'DejaVu Sans Mono',consolas,'Courier New',monospace\">┏━━━━━━━━━━━━━━━━━━━━━━━━━━━━━━━━━┳━━━━━━━━━━━━━━━━━━━━━━━━┳━━━━━━━━━━━━━━━┓\n",
       "┃<span style=\"font-weight: bold\"> Layer (type)                    </span>┃<span style=\"font-weight: bold\"> Output Shape           </span>┃<span style=\"font-weight: bold\">       Param # </span>┃\n",
       "┡━━━━━━━━━━━━━━━━━━━━━━━━━━━━━━━━━╇━━━━━━━━━━━━━━━━━━━━━━━━╇━━━━━━━━━━━━━━━┩\n",
       "│ embedding_3 (<span style=\"color: #0087ff; text-decoration-color: #0087ff\">Embedding</span>)         │ (<span style=\"color: #00d7ff; text-decoration-color: #00d7ff\">None</span>, <span style=\"color: #00af00; text-decoration-color: #00af00\">500</span>, <span style=\"color: #00af00; text-decoration-color: #00af00\">128</span>)       │     <span style=\"color: #00af00; text-decoration-color: #00af00\">1,280,000</span> │\n",
       "├─────────────────────────────────┼────────────────────────┼───────────────┤\n",
       "│ simple_rnn_4 (<span style=\"color: #0087ff; text-decoration-color: #0087ff\">SimpleRNN</span>)        │ (<span style=\"color: #00d7ff; text-decoration-color: #00d7ff\">None</span>, <span style=\"color: #00af00; text-decoration-color: #00af00\">500</span>, <span style=\"color: #00af00; text-decoration-color: #00af00\">128</span>)       │        <span style=\"color: #00af00; text-decoration-color: #00af00\">32,896</span> │\n",
       "├─────────────────────────────────┼────────────────────────┼───────────────┤\n",
       "│ dropout_1 (<span style=\"color: #0087ff; text-decoration-color: #0087ff\">Dropout</span>)             │ (<span style=\"color: #00d7ff; text-decoration-color: #00d7ff\">None</span>, <span style=\"color: #00af00; text-decoration-color: #00af00\">500</span>, <span style=\"color: #00af00; text-decoration-color: #00af00\">128</span>)       │             <span style=\"color: #00af00; text-decoration-color: #00af00\">0</span> │\n",
       "├─────────────────────────────────┼────────────────────────┼───────────────┤\n",
       "│ simple_rnn_5 (<span style=\"color: #0087ff; text-decoration-color: #0087ff\">SimpleRNN</span>)        │ (<span style=\"color: #00d7ff; text-decoration-color: #00d7ff\">None</span>, <span style=\"color: #00af00; text-decoration-color: #00af00\">64</span>)             │        <span style=\"color: #00af00; text-decoration-color: #00af00\">12,352</span> │\n",
       "├─────────────────────────────────┼────────────────────────┼───────────────┤\n",
       "│ dense_3 (<span style=\"color: #0087ff; text-decoration-color: #0087ff\">Dense</span>)                 │ (<span style=\"color: #00d7ff; text-decoration-color: #00d7ff\">None</span>, <span style=\"color: #00af00; text-decoration-color: #00af00\">1</span>)              │            <span style=\"color: #00af00; text-decoration-color: #00af00\">65</span> │\n",
       "└─────────────────────────────────┴────────────────────────┴───────────────┘\n",
       "</pre>\n"
      ],
      "text/plain": [
       "┏━━━━━━━━━━━━━━━━━━━━━━━━━━━━━━━━━┳━━━━━━━━━━━━━━━━━━━━━━━━┳━━━━━━━━━━━━━━━┓\n",
       "┃\u001b[1m \u001b[0m\u001b[1mLayer (type)                   \u001b[0m\u001b[1m \u001b[0m┃\u001b[1m \u001b[0m\u001b[1mOutput Shape          \u001b[0m\u001b[1m \u001b[0m┃\u001b[1m \u001b[0m\u001b[1m      Param #\u001b[0m\u001b[1m \u001b[0m┃\n",
       "┡━━━━━━━━━━━━━━━━━━━━━━━━━━━━━━━━━╇━━━━━━━━━━━━━━━━━━━━━━━━╇━━━━━━━━━━━━━━━┩\n",
       "│ embedding_3 (\u001b[38;5;33mEmbedding\u001b[0m)         │ (\u001b[38;5;45mNone\u001b[0m, \u001b[38;5;34m500\u001b[0m, \u001b[38;5;34m128\u001b[0m)       │     \u001b[38;5;34m1,280,000\u001b[0m │\n",
       "├─────────────────────────────────┼────────────────────────┼───────────────┤\n",
       "│ simple_rnn_4 (\u001b[38;5;33mSimpleRNN\u001b[0m)        │ (\u001b[38;5;45mNone\u001b[0m, \u001b[38;5;34m500\u001b[0m, \u001b[38;5;34m128\u001b[0m)       │        \u001b[38;5;34m32,896\u001b[0m │\n",
       "├─────────────────────────────────┼────────────────────────┼───────────────┤\n",
       "│ dropout_1 (\u001b[38;5;33mDropout\u001b[0m)             │ (\u001b[38;5;45mNone\u001b[0m, \u001b[38;5;34m500\u001b[0m, \u001b[38;5;34m128\u001b[0m)       │             \u001b[38;5;34m0\u001b[0m │\n",
       "├─────────────────────────────────┼────────────────────────┼───────────────┤\n",
       "│ simple_rnn_5 (\u001b[38;5;33mSimpleRNN\u001b[0m)        │ (\u001b[38;5;45mNone\u001b[0m, \u001b[38;5;34m64\u001b[0m)             │        \u001b[38;5;34m12,352\u001b[0m │\n",
       "├─────────────────────────────────┼────────────────────────┼───────────────┤\n",
       "│ dense_3 (\u001b[38;5;33mDense\u001b[0m)                 │ (\u001b[38;5;45mNone\u001b[0m, \u001b[38;5;34m1\u001b[0m)              │            \u001b[38;5;34m65\u001b[0m │\n",
       "└─────────────────────────────────┴────────────────────────┴───────────────┘\n"
      ]
     },
     "metadata": {},
     "output_type": "display_data"
    },
    {
     "data": {
      "text/html": [
       "<pre style=\"white-space:pre;overflow-x:auto;line-height:normal;font-family:Menlo,'DejaVu Sans Mono',consolas,'Courier New',monospace\"><span style=\"font-weight: bold\"> Total params: </span><span style=\"color: #00af00; text-decoration-color: #00af00\">1,325,315</span> (5.06 MB)\n",
       "</pre>\n"
      ],
      "text/plain": [
       "\u001b[1m Total params: \u001b[0m\u001b[38;5;34m1,325,315\u001b[0m (5.06 MB)\n"
      ]
     },
     "metadata": {},
     "output_type": "display_data"
    },
    {
     "data": {
      "text/html": [
       "<pre style=\"white-space:pre;overflow-x:auto;line-height:normal;font-family:Menlo,'DejaVu Sans Mono',consolas,'Courier New',monospace\"><span style=\"font-weight: bold\"> Trainable params: </span><span style=\"color: #00af00; text-decoration-color: #00af00\">1,325,313</span> (5.06 MB)\n",
       "</pre>\n"
      ],
      "text/plain": [
       "\u001b[1m Trainable params: \u001b[0m\u001b[38;5;34m1,325,313\u001b[0m (5.06 MB)\n"
      ]
     },
     "metadata": {},
     "output_type": "display_data"
    },
    {
     "data": {
      "text/html": [
       "<pre style=\"white-space:pre;overflow-x:auto;line-height:normal;font-family:Menlo,'DejaVu Sans Mono',consolas,'Courier New',monospace\"><span style=\"font-weight: bold\"> Non-trainable params: </span><span style=\"color: #00af00; text-decoration-color: #00af00\">0</span> (0.00 B)\n",
       "</pre>\n"
      ],
      "text/plain": [
       "\u001b[1m Non-trainable params: \u001b[0m\u001b[38;5;34m0\u001b[0m (0.00 B)\n"
      ]
     },
     "metadata": {},
     "output_type": "display_data"
    },
    {
     "data": {
      "text/html": [
       "<pre style=\"white-space:pre;overflow-x:auto;line-height:normal;font-family:Menlo,'DejaVu Sans Mono',consolas,'Courier New',monospace\"><span style=\"font-weight: bold\"> Optimizer params: </span><span style=\"color: #00af00; text-decoration-color: #00af00\">2</span> (12.00 B)\n",
       "</pre>\n"
      ],
      "text/plain": [
       "\u001b[1m Optimizer params: \u001b[0m\u001b[38;5;34m2\u001b[0m (12.00 B)\n"
      ]
     },
     "metadata": {},
     "output_type": "display_data"
    }
   ],
   "source": [
    "# Loading the pre-trained model with relu activation function \n",
    "\n",
    "model = load_model('SimpleRnn_imdb.h5')\n",
    "model.summary()"
   ]
  },
  {
   "cell_type": "code",
   "execution_count": 69,
   "metadata": {},
   "outputs": [
    {
     "data": {
      "text/plain": [
       "[array([[-0.02176417,  0.00292836, -0.03358303, ..., -0.00221231,\n",
       "         -0.02517314, -0.00182923],\n",
       "        [ 0.02217165, -0.0048374 ,  0.01360605, ...,  0.00791165,\n",
       "         -0.0034124 , -0.01517934],\n",
       "        [ 0.03419331, -0.03407732,  0.00209415, ..., -0.00259004,\n",
       "         -0.03489134, -0.00326097],\n",
       "        ...,\n",
       "        [-0.05803373, -0.02129197,  0.0159745 , ..., -0.02593427,\n",
       "          0.03086851, -0.02700802],\n",
       "        [ 0.05797685, -0.03743098,  0.04462858, ...,  0.04305399,\n",
       "         -0.039929  , -0.00576007],\n",
       "        [-0.00511815, -0.04570761,  0.0261557 , ...,  0.00968209,\n",
       "         -0.0209402 ,  0.03235263]], dtype=float32),\n",
       " array([[ 0.09757566, -0.08057367,  0.1619149 , ...,  0.06136416,\n",
       "          0.03297292, -0.11027479],\n",
       "        [-0.10753874,  0.09411561,  0.03778527, ...,  0.07493274,\n",
       "          0.11992583,  0.03188687],\n",
       "        [-0.01830975, -0.03923976, -0.00591082, ...,  0.13814153,\n",
       "          0.01354577, -0.0030879 ],\n",
       "        ...,\n",
       "        [-0.07170143,  0.08324607, -0.05283153, ...,  0.0216004 ,\n",
       "         -0.06505059,  0.05874837],\n",
       "        [ 0.02531548,  0.1097368 ,  0.10888204, ...,  0.13174795,\n",
       "         -0.04720367,  0.04724985],\n",
       "        [-0.03135393,  0.01056794, -0.00704548, ..., -0.03367019,\n",
       "         -0.03708235,  0.12828271]], dtype=float32),\n",
       " array([[-5.32141374e-03, -1.94417506e-01,  9.84480679e-02, ...,\n",
       "          8.78923535e-02, -1.10659592e-01, -8.93911123e-02],\n",
       "        [-1.70487642e-01, -1.18867233e-01, -1.84757281e-02, ...,\n",
       "          5.14370389e-02,  6.34802058e-02, -1.57202817e-02],\n",
       "        [ 1.77418515e-01, -5.29794693e-02,  1.28717944e-01, ...,\n",
       "         -1.73277911e-02,  1.15085244e-01, -3.96254957e-02],\n",
       "        ...,\n",
       "        [-1.94562599e-02,  5.65868244e-02,  3.75098102e-02, ...,\n",
       "          1.61802000e-03, -5.04351296e-02, -1.03603445e-01],\n",
       "        [-5.45576513e-02,  1.12946602e-02,  4.23620902e-02, ...,\n",
       "          6.45439923e-02,  1.34033733e-04,  3.86650525e-02],\n",
       "        [ 1.13464296e-01, -1.13280281e-01, -8.56636763e-02, ...,\n",
       "          1.07529294e-02, -6.70303926e-02,  7.11591169e-02]], dtype=float32),\n",
       " array([ 3.1827244e-03,  3.0540230e-03,  1.5983593e-03,  4.5458199e-03,\n",
       "         6.0253255e-03,  2.7508408e-04, -1.2285338e-02, -1.2712334e-02,\n",
       "        -4.2731706e-03, -9.9103479e-03, -5.4073208e-03,  2.5275513e-04,\n",
       "        -1.0092767e-03,  1.1876414e-03,  5.8241650e-03, -5.1178718e-03,\n",
       "         1.6738466e-03,  4.6825982e-03,  1.3136296e-03,  3.4698744e-05,\n",
       "        -6.7383149e-03,  4.1749128e-03,  9.0974459e-04,  2.0003654e-03,\n",
       "         6.8319850e-03,  6.5644588e-03,  2.5250295e-03,  7.9161758e-03,\n",
       "         3.2663543e-03, -9.5067760e-03, -3.6945888e-03, -7.7686924e-03,\n",
       "        -5.1648403e-03, -4.4869925e-03, -2.4057396e-03, -4.2242273e-03,\n",
       "        -4.2523487e-05, -2.4409078e-03, -9.3223443e-03, -2.8463560e-03,\n",
       "        -1.2247435e-04,  2.0031796e-03, -4.5495848e-03, -4.8425603e-03,\n",
       "        -5.8973012e-03,  7.1371661e-04, -5.2590170e-03,  3.3525405e-03,\n",
       "         4.2671002e-03,  9.2695234e-04,  4.2764908e-03,  1.6847268e-03,\n",
       "         1.7237626e-03, -8.0613274e-04, -3.0152730e-03, -3.8874515e-03,\n",
       "         3.5838592e-03,  8.9506367e-03, -9.5488696e-04,  8.9921346e-03,\n",
       "         6.9600865e-03,  4.1253972e-03,  4.4679008e-03,  4.4846432e-03,\n",
       "         1.2188915e-02, -2.2501482e-03, -5.4147542e-03, -1.4935526e-03,\n",
       "         6.9194878e-03,  8.6846860e-04,  3.0787950e-04, -1.9746299e-03,\n",
       "        -1.3863477e-03,  8.6595900e-03, -1.0807221e-02,  3.1848839e-03,\n",
       "        -3.8991796e-04,  2.5877175e-03,  2.3720101e-03, -5.2238721e-03,\n",
       "         4.1758758e-03, -1.6248057e-03,  7.3864171e-03,  1.3914480e-03,\n",
       "         2.4946997e-04,  2.2115980e-03,  3.8106609e-03,  2.1633534e-03,\n",
       "         2.5641711e-03,  3.5646111e-03, -4.5577264e-03,  3.7860007e-03,\n",
       "         7.1826912e-03,  2.3902911e-03, -9.0277111e-03,  1.3482193e-03,\n",
       "        -8.8508176e-03, -6.1046910e-03, -6.7019691e-03, -1.0342749e-03,\n",
       "         4.8144520e-03,  7.1291332e-03,  2.1893983e-03, -5.8671850e-04,\n",
       "         4.5068329e-03,  3.4476935e-03, -9.0559240e-04, -8.1752223e-04,\n",
       "        -5.2520293e-03,  9.2659931e-05,  5.8302633e-03,  2.8838315e-03,\n",
       "        -2.5750466e-03,  5.3022387e-03, -8.6319800e-03, -4.6011764e-03,\n",
       "        -4.7764159e-03,  2.0401485e-03, -4.7749961e-03,  5.5906987e-03,\n",
       "         4.2617897e-04, -1.4166407e-03,  1.1289184e-03, -1.6710429e-03,\n",
       "         8.9364192e-03,  1.8041065e-03, -3.1535323e-03,  9.2832651e-03],\n",
       "       dtype=float32),\n",
       " array([[ 0.14712639, -0.02463322,  0.12869835, ...,  0.0916815 ,\n",
       "          0.18689738, -0.15530309],\n",
       "        [ 0.13329355, -0.13204007, -0.08083029, ...,  0.10551094,\n",
       "         -0.03553474,  0.01828139],\n",
       "        [-0.01464475,  0.20470229, -0.02948745, ...,  0.11398681,\n",
       "          0.1313173 , -0.01185958],\n",
       "        ...,\n",
       "        [-0.0450743 , -0.1323398 , -0.11278326, ...,  0.08355512,\n",
       "         -0.13203047,  0.04404892],\n",
       "        [ 0.05482537, -0.13802773,  0.02883736, ..., -0.03227269,\n",
       "          0.02074171,  0.02295862],\n",
       "        [ 0.07161915, -0.19975665, -0.07684397, ...,  0.00658839,\n",
       "          0.1502983 , -0.04116148]], dtype=float32),\n",
       " array([[-0.06314007,  0.04800674, -0.0294111 , ..., -0.00413482,\n",
       "          0.01361881, -0.00204115],\n",
       "        [-0.03369962, -0.12541091,  0.06704297, ...,  0.29581407,\n",
       "         -0.04970198,  0.05219715],\n",
       "        [-0.313333  ,  0.01253139,  0.06281912, ..., -0.14325893,\n",
       "         -0.11477664, -0.00955678],\n",
       "        ...,\n",
       "        [ 0.04569929,  0.08073086, -0.08340119, ...,  0.24701618,\n",
       "          0.12818493,  0.01511694],\n",
       "        [-0.01682207, -0.05364182, -0.24028288, ..., -0.20496146,\n",
       "          0.05760251,  0.02280648],\n",
       "        [-0.08903998, -0.08610202, -0.0409436 , ..., -0.21642902,\n",
       "          0.02271573,  0.01710093]], dtype=float32),\n",
       " array([-0.00107943, -0.00696893, -0.00647847,  0.01016305, -0.00073097,\n",
       "         0.00576373,  0.02110492,  0.00313811, -0.00414837,  0.00308247,\n",
       "         0.00287473, -0.0037307 ,  0.00086593,  0.00998491,  0.01425166,\n",
       "        -0.00056182,  0.00536251,  0.00805515, -0.00595404,  0.0024906 ,\n",
       "         0.00449301, -0.00823022, -0.00331973, -0.00639711,  0.00602343,\n",
       "         0.01110139,  0.0152856 ,  0.01924819,  0.00057169,  0.01797577,\n",
       "        -0.00020028, -0.00216173, -0.00240791,  0.00401156,  0.0084197 ,\n",
       "         0.00562515, -0.00098297, -0.00873284,  0.00580273, -0.0077658 ,\n",
       "        -0.00521397, -0.0030511 ,  0.01614159, -0.00097849,  0.00349531,\n",
       "        -0.00409998, -0.00112692,  0.00126475, -0.00164991, -0.01179901,\n",
       "        -0.00160087, -0.00148627,  0.00429016,  0.00579281, -0.00250309,\n",
       "        -0.00623313, -0.00441718,  0.012229  ,  0.01662802,  0.01085885,\n",
       "         0.00513334,  0.003085  , -0.00249286,  0.00532153], dtype=float32),\n",
       " array([[-0.05110557],\n",
       "        [-0.244057  ],\n",
       "        [ 0.18051171],\n",
       "        [ 0.12740801],\n",
       "        [-0.2156148 ],\n",
       "        [ 0.02380658],\n",
       "        [ 0.1193834 ],\n",
       "        [-0.00653258],\n",
       "        [-0.04764251],\n",
       "        [ 0.26247868],\n",
       "        [ 0.24724859],\n",
       "        [-0.15372354],\n",
       "        [-0.3322009 ],\n",
       "        [ 0.02434802],\n",
       "        [ 0.29946527],\n",
       "        [ 0.08313432],\n",
       "        [ 0.07563789],\n",
       "        [ 0.02219537],\n",
       "        [-0.24446787],\n",
       "        [ 0.2952812 ],\n",
       "        [-0.05473496],\n",
       "        [-0.01423078],\n",
       "        [-0.00640337],\n",
       "        [-0.22757655],\n",
       "        [ 0.06938802],\n",
       "        [ 0.25693768],\n",
       "        [ 0.33546388],\n",
       "        [ 0.19946557],\n",
       "        [-0.05499836],\n",
       "        [ 0.2282488 ],\n",
       "        [-0.15937154],\n",
       "        [-0.01625277],\n",
       "        [ 0.3046259 ],\n",
       "        [-0.04975113],\n",
       "        [ 0.0024904 ],\n",
       "        [-0.26206756],\n",
       "        [ 0.13297532],\n",
       "        [-0.05773066],\n",
       "        [ 0.02219504],\n",
       "        [-0.05515486],\n",
       "        [ 0.08635706],\n",
       "        [-0.22169515],\n",
       "        [ 0.21811104],\n",
       "        [ 0.07157247],\n",
       "        [-0.05207359],\n",
       "        [-0.30274707],\n",
       "        [ 0.11990856],\n",
       "        [-0.24746378],\n",
       "        [-0.00701342],\n",
       "        [ 0.00546527],\n",
       "        [ 0.18971944],\n",
       "        [-0.24405015],\n",
       "        [-0.30942383],\n",
       "        [-0.26765558],\n",
       "        [-0.20984215],\n",
       "        [-0.29457542],\n",
       "        [-0.23165186],\n",
       "        [ 0.18152124],\n",
       "        [ 0.30183637],\n",
       "        [ 0.26660398],\n",
       "        [-0.00543671],\n",
       "        [-0.22644238],\n",
       "        [-0.14288236],\n",
       "        [-0.15753081]], dtype=float32),\n",
       " array([0.00785794], dtype=float32)]"
      ]
     },
     "execution_count": 69,
     "metadata": {},
     "output_type": "execute_result"
    }
   ],
   "source": [
    "model.get_weights()"
   ]
  },
  {
   "cell_type": "markdown",
   "metadata": {},
   "source": [
    "Helper Functions"
   ]
  },
  {
   "cell_type": "code",
   "execution_count": 70,
   "metadata": {},
   "outputs": [],
   "source": [
    "# Function to decode reviews\n",
    "def decode_review(encoded_review):\n",
    "    return ' '.join([reverse_word_index.get(i - 3, '?') for i in encoded_review])\n",
    "\n",
    "# Function to preprocess user input\n",
    "def preprocess_text(text):\n",
    "    words = text.lower().split()\n",
    "    encoded_review = [word_index.get(word, 2) + 3 for word in words]\n",
    "    padded_review = sequence.pad_sequences([encoded_review], maxlen=500)  # Match training input length\n",
    "    return padded_review"
   ]
  },
  {
   "cell_type": "code",
   "execution_count": 71,
   "metadata": {},
   "outputs": [],
   "source": [
    "def predict_sentiment(review):\n",
    "    preprocessed_input = preprocess_text(review)\n",
    "    prediction = model.predict(preprocessed_input)[0][0]  # Extract scalar value\n",
    "\n",
    "    # Define thresholds for classification\n",
    "    if prediction >= 0.6:\n",
    "        sentiment = 'Positive'\n",
    "    elif prediction <= 0.4:\n",
    "        sentiment = 'Negative'\n",
    "    else:\n",
    "        sentiment = 'Neutral'\n",
    "\n",
    "    return sentiment, prediction"
   ]
  },
  {
   "cell_type": "markdown",
   "metadata": {},
   "source": [
    "User Input And Prediction"
   ]
  },
  {
   "cell_type": "code",
   "execution_count": 75,
   "metadata": {},
   "outputs": [
    {
     "name": "stdout",
     "output_type": "stream",
     "text": [
      "\u001b[1m1/1\u001b[0m \u001b[32m━━━━━━━━━━━━━━━━━━━━\u001b[0m\u001b[37m\u001b[0m \u001b[1m0s\u001b[0m 81ms/step\n",
      "Review: The movie had some good moments, but overall, it was just okay.\n",
      "Sentiment: Positive | Prediction Score: 0.6006\n",
      "\n",
      "\u001b[1m1/1\u001b[0m \u001b[32m━━━━━━━━━━━━━━━━━━━━\u001b[0m\u001b[37m\u001b[0m \u001b[1m0s\u001b[0m 54ms/step\n",
      "Review: Not bad, but not great either. A decent watch for a lazy afternoon.\n",
      "Sentiment: Neutral | Prediction Score: 0.5389\n",
      "\n",
      "\u001b[1m1/1\u001b[0m \u001b[32m━━━━━━━━━━━━━━━━━━━━\u001b[0m\u001b[37m\u001b[0m \u001b[1m0s\u001b[0m 62ms/step\n",
      "Review: There were parts I enjoyed, but the ending was disappointing.\n",
      "Sentiment: Neutral | Prediction Score: 0.5614\n",
      "\n",
      "\u001b[1m1/1\u001b[0m \u001b[32m━━━━━━━━━━━━━━━━━━━━\u001b[0m\u001b[37m\u001b[0m \u001b[1m0s\u001b[0m 60ms/step\n",
      "Review: It had a good concept, but the execution could have been better.\n",
      "Sentiment: Neutral | Prediction Score: 0.4590\n",
      "\n",
      "\u001b[1m1/1\u001b[0m \u001b[32m━━━━━━━━━━━━━━━━━━━━\u001b[0m\u001b[37m\u001b[0m \u001b[1m0s\u001b[0m 68ms/step\n",
      "Review: Some scenes were good, but overall, it felt a bit underwhelming.\n",
      "Sentiment: Neutral | Prediction Score: 0.5762\n",
      "\n"
     ]
    }
   ],
   "source": [
    "test_reviews = [\n",
    "    \"The movie had some good moments, but overall, it was just okay.\",\n",
    "    \"Not bad, but not great either. A decent watch for a lazy afternoon.\",\n",
    "    \"There were parts I enjoyed, but the ending was disappointing.\",\n",
    "    \"It had a good concept, but the execution could have been better.\",\n",
    "    \"Some scenes were good, but overall, it felt a bit underwhelming.\"\n",
    "]\n",
    "\n",
    "\n",
    "\n",
    "\n",
    "# Running Predictions\n",
    "for review in test_reviews:\n",
    "    sentiment, score = predict_sentiment(review)\n",
    "    print(f'Review: {review}')\n",
    "    print(f'Sentiment: {sentiment} | Prediction Score: {score:.4f}\\n')"
   ]
  },
  {
   "cell_type": "code",
   "execution_count": null,
   "metadata": {},
   "outputs": [],
   "source": []
  },
  {
   "cell_type": "code",
   "execution_count": null,
   "metadata": {},
   "outputs": [],
   "source": []
  },
  {
   "cell_type": "code",
   "execution_count": null,
   "metadata": {},
   "outputs": [],
   "source": []
  }
 ],
 "metadata": {
  "kernelspec": {
   "display_name": "base",
   "language": "python",
   "name": "python3"
  },
  "language_info": {
   "codemirror_mode": {
    "name": "ipython",
    "version": 3
   },
   "file_extension": ".py",
   "mimetype": "text/x-python",
   "name": "python",
   "nbconvert_exporter": "python",
   "pygments_lexer": "ipython3",
   "version": "3.12.4"
  }
 },
 "nbformat": 4,
 "nbformat_minor": 2
}
